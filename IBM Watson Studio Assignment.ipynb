{
    "cells": [
        {
            "cell_type": "markdown",
            "metadata": {
                "collapsed": true
            },
            "source": "# My Jupyter Notebook on IBM Watson Studio"
        },
        {
            "cell_type": "markdown",
            "metadata": {},
            "source": "**Samyak Jain**\n\nI am currently a student at the University of Washington, Seattle and aim to work as a Data Scientist in the upcoming years."
        },
        {
            "cell_type": "markdown",
            "metadata": {},
            "source": "*I am interested in Data Science because I really like to decipher puzzles. I believe, analysing data is similar to solving a puzzle as it requires logic and will be really interesting!*"
        },
        {
            "cell_type": "markdown",
            "metadata": {},
            "source": "### The following code prints the first 'n' elements of the Fibonacci series."
        },
        {
            "cell_type": "code",
            "execution_count": 3,
            "metadata": {
                "scrolled": true
            },
            "outputs": [
                {
                    "name": "stdout",
                    "output_type": "stream",
                    "text": "Enter the value of 'n': 5\nFibonacci Series:  0 1 1 2 3 "
                }
            ],
            "source": "n = int(input(\"Enter the value of 'n': \"))\na = 0\nb = 1\nsum = 0\ncount = 1\nprint(\"Fibonacci Series: \", end = \" \")\nwhile(count <= n):\n  print(sum, end = \" \")\n  count += 1\n  a = b\n  b = sum\n  sum = a + b"
        },
        {
            "cell_type": "markdown",
            "metadata": {},
            "source": "Fibonacci Series is a series of numbers where the next numbr is found by adding up the two numbers before it.\n***\nFibonacci Series has a great significance and more can be found [here](https://elearningindustry.com/fibonacci-sequence-what-is-and-how-applies-agile-development).\n***\nThe visual form of the Fibonacci Series can be found in multiple settings including:\n* Shells\n* Spiral Staircases.\n* Center of Sunflowers"
        }
    ],
    "metadata": {
        "kernelspec": {
            "display_name": "Python 3.6",
            "language": "python",
            "name": "python3"
        },
        "language_info": {
            "codemirror_mode": {
                "name": "ipython",
                "version": 3
            },
            "file_extension": ".py",
            "mimetype": "text/x-python",
            "name": "python",
            "nbconvert_exporter": "python",
            "pygments_lexer": "ipython3",
            "version": "3.6.9"
        }
    },
    "nbformat": 4,
    "nbformat_minor": 1
}